{
 "cells": [
  {
   "cell_type": "code",
   "execution_count": 3,
   "metadata": {},
   "outputs": [
    {
     "name": "stderr",
     "output_type": "stream",
     "text": [
      "usage: ipykernel_launcher.py [-h] [--credentials CREDENTIALS]\n",
      "                             [--profile PROFILE]\n",
      "ipykernel_launcher.py: error: unrecognized arguments: -f C:\\Users\\128900\\AppData\\Roaming\\jupyter\\runtime\\kernel-20394669-a296-41cc-a99d-447d26b658f0.json\n"
     ]
    },
    {
     "ename": "SystemExit",
     "evalue": "2",
     "output_type": "error",
     "traceback": [
      "An exception has occurred, use %tb to see the full traceback.\n",
      "\u001b[1;31mSystemExit\u001b[0m\u001b[1;31m:\u001b[0m 2\n"
     ]
    },
    {
     "name": "stderr",
     "output_type": "stream",
     "text": [
      "C:\\ProgramData\\Anaconda3\\lib\\site-packages\\IPython\\core\\interactiveshell.py:2889: UserWarning: To exit: use 'exit', 'quit', or Ctrl-D.\n",
      "  warn(\"To exit: use 'exit', 'quit', or Ctrl-D.\", stacklevel=1)\n"
     ]
    }
   ],
   "source": [
    "#!/usr/bin/env python \n",
    "\n",
    "from utility.helpers import getArgs\n",
    "from utility.helpers import kairosAuthConfig\n",
    "import json\n",
    "import kairos_face\n",
    "\n",
    "\n",
    "def getImage():\n",
    "    import cv2\n",
    "\n",
    "    cam = cv2.VideoCapture(0)\n",
    "\n",
    "    cv2.namedWindow(\"PhotoBooth\")\n",
    "\n",
    "    while True:\n",
    "        ret, frame = cam.read()\n",
    "        cv2.imshow(\"PhotoBooth\", frame)\n",
    "        if not ret:\n",
    "            break\n",
    "        k = cv2.waitKey(1)\n",
    "\n",
    "        if k % 256 == 32:\n",
    "            # SPACE pressed\n",
    "            img_name = \"portrait.png\"\n",
    "            cv2.imwrite(img_name, frame)\n",
    "            print(\"{} written!\".format(img_name))\n",
    "            break\n",
    "\n",
    "    cam.release()\n",
    "\n",
    "    cv2.destroyAllWindows()\n",
    "    return(\"portrait.png\")\n",
    "\n",
    "options = getArgs()\n",
    "conf = kairosAuthConfig(options.credentials, options.profile)\n",
    "\n",
    "app_id=conf['app_id']\n",
    "app_key=conf['app_key']\n",
    "\n",
    "kairos_face.settings.app_id = app_id\n",
    "kairos_face.settings.app_key = app_key\n",
    "\n",
    "galleries_list = kairos_face.get_galleries_names_list()\n",
    "\n",
    "image_file=getImage()\n",
    "\n",
    "foo = kairos_face.enroll_face(file=image_file, subject_id='subject1', gallery_name='a-gallery')\n",
    "print(json.dumps(foo, indent=4))"
   ]
  },
  {
   "cell_type": "code",
   "execution_count": 4,
   "metadata": {},
   "outputs": [
    {
     "name": "stderr",
     "output_type": "stream",
     "text": [
      "'git' is not recognized as an internal or external command,\n",
      "operable program or batch file.\n"
     ]
    }
   ],
   "source": [
    "!git clone https://github.com/ffmmjj/kairos-face-sdk-python.git"
   ]
  },
  {
   "cell_type": "code",
   "execution_count": 2,
   "metadata": {},
   "outputs": [
    {
     "name": "stdout",
     "output_type": "stream",
     "text": [
      "Collecting kairos_face\n"
     ]
    },
    {
     "name": "stderr",
     "output_type": "stream",
     "text": [
      "  Could not find a version that satisfies the requirement kairos_face (from versions: )\n",
      "No matching distribution found for kairos_face\n",
      "You are using pip version 9.0.1, however version 10.0.1 is available.\n",
      "You should consider upgrading via the 'python -m pip install --upgrade pip' command.\n"
     ]
    }
   ],
   "source": [
    "!pip install kairos_face"
   ]
  },
  {
   "cell_type": "code",
   "execution_count": null,
   "metadata": {
    "collapsed": true
   },
   "outputs": [],
   "source": []
  }
 ],
 "metadata": {
  "kernelspec": {
   "display_name": "Python 3",
   "language": "python",
   "name": "python3"
  },
  "language_info": {
   "codemirror_mode": {
    "name": "ipython",
    "version": 3
   },
   "file_extension": ".py",
   "mimetype": "text/x-python",
   "name": "python",
   "nbconvert_exporter": "python",
   "pygments_lexer": "ipython3",
   "version": "3.6.1"
  }
 },
 "nbformat": 4,
 "nbformat_minor": 2
}
